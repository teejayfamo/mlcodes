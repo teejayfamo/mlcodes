{
  "nbformat": 4,
  "nbformat_minor": 0,
  "metadata": {
    "colab": {
      "name": "Convolutions_Boost_Mnist_.ipynb",
      "provenance": [],
      "collapsed_sections": [],
      "include_colab_link": true
    },
    "kernelspec": {
      "name": "python3",
      "display_name": "Python 3"
    }
  },
  "cells": [
    {
      "cell_type": "markdown",
      "metadata": {
        "id": "view-in-github",
        "colab_type": "text"
      },
      "source": [
        "<a href=\"https://colab.research.google.com/github/teejayfamo/mlcodes/blob/master/Convolutions_Boost_Mnist_.ipynb\" target=\"_parent\"><img src=\"https://colab.research.google.com/assets/colab-badge.svg\" alt=\"Open In Colab\"/></a>"
      ]
    },
    {
      "cell_type": "code",
      "metadata": {
        "id": "mHz7wlXUlj2j",
        "colab_type": "code",
        "colab": {}
      },
      "source": [
        "import tensorflow as tf\n",
        "from os import path, getcwd, chdir\n",
        "\n",
        "# DO NOT CHANGE THE LINE BELOW. If you are developing in a local\n",
        "# environment, then grab mnist.npz from the Coursera Jupyter Notebook\n",
        "# and place it inside a local folder and edit the path to that location\n",
        "path = f\"{getcwd()}/../tmp2/mnist.npz\"\n",
        "\n"
      ],
      "execution_count": 0,
      "outputs": []
    },
    {
      "cell_type": "code",
      "metadata": {
        "id": "_tg81XIelaCf",
        "colab_type": "code",
        "colab": {}
      },
      "source": [
        "config = tf.ConfigProto()\n",
        "config.gpu_options.allow_growth = True\n",
        "sess = tf.Session(config=config)"
      ],
      "execution_count": 0,
      "outputs": []
    },
    {
      "cell_type": "code",
      "metadata": {
        "id": "LXEu1zGolgy9",
        "colab_type": "code",
        "colab": {}
      },
      "source": [
        "\n",
        "# GRADED FUNCTION: train_mnist_conv\n",
        "def train_mnist_conv():\n",
        "    # Please write your code only where you are indicated.\n",
        "    # please do not remove model fitting inline comments.\n",
        "\n",
        "   \n",
        "    \n",
        "    mnist = tf.keras.datasets.mnist\n",
        "    (training_images, training_labels), (test_images, test_labels) = mnist.load_data() #path=path\n",
        "    training_images = training_images.reshape(60000, 28,28,1)\n",
        "    training_images = training_images/255.0\n",
        "    test_images = test_images.reshape(10000, 28,28,1)\n",
        "    test_images = test_images/255.0\n",
        "    \n",
        "    class myCallback(tf.keras.callbacks.Callback):\n",
        "      def on_epoch_end(self, epoch, logs={}):\n",
        "        if(logs.get(\"loss\")< 0.002):\n",
        "          print(\"Reached 99.8% accuracy so cancelling training!\")\n",
        "          self.model.stop_training = True\n",
        "\n",
        "    callbacks = myCallback()\n",
        "\n",
        "\n",
        "    model = tf.keras.models.Sequential([\n",
        "  tf.keras.layers.Conv2D(64, (3,3), activation = 'relu', input_shape = (28,28,1)),\n",
        "  tf.keras.layers.MaxPooling2D(2,2),\n",
        "  tf.keras.layers.Conv2D(64, (3,3), activation = 'relu'),\n",
        "  tf.keras.layers.MaxPooling2D(2,2),  \n",
        "  tf.keras.layers.Flatten(),\n",
        "  tf.keras.layers.Dense(128, activation='relu'),\n",
        "  tf.keras.layers.Dense(10, activation =  'softmax')\n",
        "        \n",
        "    ])\n",
        "\n",
        "    model.compile(optimizer='adam', loss='sparse_categorical_crossentropy', metrics=['accuracy'])\n",
        "    # model fitting\n",
        "    model.summary()\n",
        "    history = model.fit(\n",
        "        training_images, training_labels, epochs  = 11, callbacks = [callbacks]\n",
        "    )\n",
        "   \n",
        "    return history.epoch, history.history['acc'][-1]"
      ],
      "execution_count": 0,
      "outputs": []
    },
    {
      "cell_type": "code",
      "metadata": {
        "id": "ejo-9t0ZlOpc",
        "colab_type": "code",
        "colab": {
          "base_uri": "https://localhost:8080/",
          "height": 720
        },
        "outputId": "adf03ef5-42d7-426e-a7a7-9d7adedf8daf"
      },
      "source": [
        "  _, _ = train_mnist_conv()"
      ],
      "execution_count": 36,
      "outputs": [
        {
          "output_type": "stream",
          "text": [
            "Model: \"sequential_11\"\n",
            "_________________________________________________________________\n",
            "Layer (type)                 Output Shape              Param #   \n",
            "=================================================================\n",
            "conv2d_22 (Conv2D)           (None, 26, 26, 64)        640       \n",
            "_________________________________________________________________\n",
            "max_pooling2d_22 (MaxPooling (None, 13, 13, 64)        0         \n",
            "_________________________________________________________________\n",
            "conv2d_23 (Conv2D)           (None, 11, 11, 64)        36928     \n",
            "_________________________________________________________________\n",
            "max_pooling2d_23 (MaxPooling (None, 5, 5, 64)          0         \n",
            "_________________________________________________________________\n",
            "flatten_11 (Flatten)         (None, 1600)              0         \n",
            "_________________________________________________________________\n",
            "dense_22 (Dense)             (None, 128)               204928    \n",
            "_________________________________________________________________\n",
            "dense_23 (Dense)             (None, 10)                1290      \n",
            "=================================================================\n",
            "Total params: 243,786\n",
            "Trainable params: 243,786\n",
            "Non-trainable params: 0\n",
            "_________________________________________________________________\n",
            "Train on 60000 samples\n",
            "Epoch 1/9\n",
            "60000/60000 [==============================] - 87s 1ms/sample - loss: 0.1244 - acc: 0.9629\n",
            "Epoch 2/9\n",
            "60000/60000 [==============================] - 86s 1ms/sample - loss: 0.0427 - acc: 0.9867\n",
            "Epoch 3/9\n",
            "60000/60000 [==============================] - 86s 1ms/sample - loss: 0.0299 - acc: 0.9905\n",
            "Epoch 4/9\n",
            "60000/60000 [==============================] - 86s 1ms/sample - loss: 0.0199 - acc: 0.9936\n",
            "Epoch 5/9\n",
            "60000/60000 [==============================] - 86s 1ms/sample - loss: 0.0151 - acc: 0.9950\n",
            "Epoch 6/9\n",
            "60000/60000 [==============================] - 86s 1ms/sample - loss: 0.0122 - acc: 0.9961\n",
            "Epoch 7/9\n",
            "60000/60000 [==============================] - 86s 1ms/sample - loss: 0.0094 - acc: 0.9967\n",
            "Epoch 8/9\n",
            "60000/60000 [==============================] - 86s 1ms/sample - loss: 0.0081 - acc: 0.9971\n",
            "Epoch 9/9\n",
            "60000/60000 [==============================] - 86s 1ms/sample - loss: 0.0056 - acc: 0.9981\n"
          ],
          "name": "stdout"
        }
      ]
    }
  ]
}